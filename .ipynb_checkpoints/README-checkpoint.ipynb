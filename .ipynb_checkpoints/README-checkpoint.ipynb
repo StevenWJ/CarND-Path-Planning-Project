{
 "cells": [
  {
   "cell_type": "markdown",
   "metadata": {},
   "source": [
    "# Project: Highway Driving (Path Planning in C++)\n"
   ]
  },
  {
   "cell_type": "markdown",
   "metadata": {},
   "source": [
    "## Particle Filters\n",
    "In this project, the goal is to design a path planner that is able to create smooth, safe paths for the car to follow along a 3 lane highway with traffic. The path planner will be able to keep inside its lane, avoid hitting other cars, and pass slower moving traffic all by using localization, sensor fusion, and map data.\n",
    "\n",
    "<p>\n",
    "    <img src=\"./path_planning_diagram.png\" alt=\"Block Diagram of Path Planning\"/>\n",
    "    <br>\n",
    "    <em>Block Diagram of Path Planning.</em>\n",
    "</p>"
   ]
  },
  {
   "cell_type": "markdown",
   "metadata": {},
   "source": [
    "## Project files\n",
    "### The codes\n",
    "In addition to the original scripts from the project repository, I updated main.cpp and added two other header files.\n",
    "Here is the summary of the updates:\n",
    "\n",
    "* [src/spline.h](src/spline.h)    [Cubic Spline](https://kluge.in-chemnitz.de/opensource/spline) interpolation routines suggested by the project instruction.\n",
    "* [src/supports.h](src/supports.h) \n",
    "    * `predict_cars_movement()`         Update nearby cars' location per each car's sensed velocity. \n",
    "    * `pickLane()`                      Decide the next lane the car will be in.\n",
    "    * `decideAccel()`                   Increase/decrease/maintain the acceleration per clearance ahead. \n",
    "    * `computeNewVelocity()`            Compute new velocity by given original velocity and acceleration.  \n",
    "    * `computeTravelDist()`             Compute travel distance by given velocity and acceleration.\n",
    "    * `transMap2Car()`                  Transform map coordinates to car's local coordinates. \n",
    "    * `transCar2Map()`                  Transform car's local coordinates to map coordinates.\n",
    "    \n",
    "* [src/main.cpp](src/main.cpp)     Main script that contains the Path Planning's flow.\n"
   ]
  },
  {
   "cell_type": "markdown",
   "metadata": {},
   "source": [
    "### The results\n",
    "Screen recordings of the simulator to show the final results.\n",
    "* [Demo.mov](Demo.mov)            Running the car simulator with the Path Planning routines."
   ]
  },
  {
   "cell_type": "markdown",
   "metadata": {},
   "source": [
    "## Highlights of the codes "
   ]
  },
  {
   "cell_type": "markdown",
   "metadata": {},
   "source": [
    "### `predict_cars_movement()`\n",
    "In this procedure, All nearby cars' new locations are updated according to velocities in both $x$ and $y$ directions.\n",
    "Here we only use a simple ${New \\space location} = {Previous \\space location} + Velocity \\times \\Delta {Time}$ to predict each car's new location.\n",
    "```cpp\n",
    "    pred_x  = sensor_data[i].x + sensor_data[i].vx * delta_t;\n",
    "    pred_y  = sensor_data[i].y + sensor_data[i].vy * delta_t;\n",
    "```"
   ]
  },
  {
   "cell_type": "markdown",
   "metadata": {},
   "source": [
    "### `pickLane()`\n",
    "Each time this function is called, it evaluates the current lane itself and lanes next to it.  If the car is in the right-most or left-most lanes, only two lanes need to be evaluated. \n",
    "\n",
    "<p>\n",
    "    <img src=\"./lanes_to_check.png\" alt=\"Candidate lanes to evaluate\"/>\n",
    "    <br>\n",
    "    <em>Candidate lanes to evaluate</em>\n",
    "</p>\n",
    "\n",
    "For each lane needs to be checked, `pickLane()` computes the overall cost of each lane according with the initial cost $ \\left | L - P \\right |$, where $L$ is the current lane's number and $P$ is the preferred lane's number. \n",
    "Then an equation $ 1- \\frac{1}{e^{\\left | L - P \\right |}} $ is used to obtain a `cost multiplier` that will be zero only when the car is in the preferred lane.\n",
    "\n",
    "For each lane being evaluated, I check if there is car in specific zone of the lane. A yellow zone is a look-ahead zone in which cars doesn't cause hazard, while red zone is for checking if there is car that might cause collision.\n",
    "\n",
    "<p>\n",
    "    <img src=\"./cost_evaluation.png\" alt=\"Evaluate cost of each lane\"/>\n",
    "    <br>\n",
    "    <em>Evaluate cost of each lane</em>\n",
    "</p>\n",
    "\n",
    "For each car in the yellow zone, the cost will be $200 * (1-e^{-\\frac{1}{Distance}})$.  Any car in the red zone will be given ten times of cost, $2000 * (1-e^{-\\frac{1}{Distance}})$, to prevent the car from crashing into other cars.\n"
   ]
  },
  {
   "cell_type": "markdown",
   "metadata": {},
   "source": [
    "### `decideAccel()`\n",
    "The acceleration decide the new acceleration by looking ahead.  If there is a car ahead in the red zone, the acceleration will be $-8$ (hard-coded in the script).  Otherwise, the acceleration will be $+8$ until it reaches the speed limit.  If the speed limit is reached, the acceleration will then be $0$.\n",
    "\n",
    "<p>\n",
    "    <img src=\"./acceleration_control.png\" alt=\"Deciding the acceleration\"/>\n",
    "    <br>\n",
    "    <em>Deciding the acceleration</em>\n",
    "</p>\n"
   ]
  },
  {
   "cell_type": "markdown",
   "metadata": {},
   "source": [
    "### `computeNewVelocity()`\n",
    "The new velocity of the car is computed with the following equation.\n",
    "\n",
    "$V_{new} = V_{old} + Accel \\times \\Delta {time}$\n",
    "\n",
    "In this case, the $\\Delta_{time}$ is $20 ms$ since the simulator's processing rate is 20 ms per waypoint."
   ]
  },
  {
   "cell_type": "markdown",
   "metadata": {},
   "source": [
    "### `computeTravelDist()`\n",
    "This routine plays a crucial part of creating new waypoint. For each time frame $(20 ms)$, I computer the new travel distance with the equation.\n",
    "\n",
    "$Distance = V_{current} \\times {\\Delta {time}} + Accel \\times {\\Delta {time}}^2$\n"
   ]
  },
  {
   "cell_type": "markdown",
   "metadata": {},
   "source": [
    "### `transMap2Car()` and `transCar2Map`\n",
    "This two fuction simply use the following codes to transform coordinates between map and car coordinates system:\n",
    "\n",
    "Transforming map coordinates to car coordinates.\n",
    "```cpp\n",
    "  double shift_x = map_wp[0] - car_map_wp[0];\n",
    "  double shift_y = map_wp[1] - car_map_wp[1];\n",
    "  double car_x = (shift_x*cos(0.0-ref_theda)-shift_y*sin(0.0-ref_theda));\n",
    "  double car_y = (shift_x*sin(0.0-ref_theda)+shift_y*cos(0.0-ref_theda));\n",
    "  return {car_x, car_y};\n",
    "```\n",
    "\n",
    "Transforming car coordinates to map coordinates.\n",
    "```cpp\n",
    "  double map_x = (car_wp[0]*cos(ref_theda)-car_wp[1]*sin(ref_theda)) + car_map_wp[0];\n",
    "  double map_y = (car_wp[0]*sin(ref_theda)+car_wp[1]*cos(ref_theda)) + car_map_wp[1];\n",
    "  return {map_x, map_y};\n",
    "```\n",
    "<p>\n",
    "    <img src=\"./coordinates_trans.png\" alt=\"Coordinates transformation between map (world) and car\"/>\n",
    "    <br>\n",
    "    <em>Coordinates transformation between map (world) and car</em>\n",
    "</p>"
   ]
  },
  {
   "cell_type": "markdown",
   "metadata": {},
   "source": [
    "### Main program\n",
    "In the main program, I kept or updated waypoints by taking network latency into account. Since I was running the simulator and the main program on seperate machines. I pick 300 ms as the expected network latency.  That is, only first waypoint through 15th waypoint will be kept in order to keep the car driving correctly. All nearby cars' location will also be updated up to the time before 16th waypoint is consumed.  In stead of filling up the vacancy by adding a few waypoints, I decided to update waypoints that were sent last time but havn't been consumed by the car.\n",
    "This would enhance the ability react to hazard as eraly as possible.\n",
    "\n",
    "<p>\n",
    "    <img src=\"./waypoints.png\" alt=\"Waypoints 16th through 50th will be updated in each iteration\"/>\n",
    "    <br>\n",
    "    <em>Waypoints 16th through 50th will be updated in each iteration</em>\n",
    "</p>\n",
    "\n",
    "\n",
    "The 15 wayponts will be used by Cubic Spline interpolation routine as starting points. Then I added three new waypoints at 30m, 60m and 90m ahead of the car with gently increasing displacement at $\\frac{1}{2}\\Delta d$, $\\frac{3}{4}\\Delta d$, and $\\Delta d$.  This will prevent jerk and avoid collision in some cases since it gives more margin to the lane planner to avoid collision. \n",
    "\n",
    "<p>\n",
    "    <img src=\"./lane_changing.png\" alt=\"Smooth lane changing\"/>\n",
    "    <br>\n",
    "    <em>Smooth lane changing</em>\n",
    "</p>\n",
    "\n",
    "The 15+3 waypoints were passed to `tk::spline` to generate a smooth trajectory.\n",
    "\n",
    "```cpp\n",
    "          tk::spline spl;\n",
    "          spl.set_points(ptsx, ptsy);\n",
    "```\n",
    "\n",
    "Once the trajectory was decided, I computed the travel distance ${d\\_dist}$ and obtain the new coordinate at $x$ axis of the car's coordinates system.  Then I looked up new coordinate at $y$ axis with `tk::spline`'s look-up function.\n",
    "The new coordinates $(x, y)$ are transformed to map coordinates.  Finally, I predicted all nearby cars location by calling `predic_cars_movement()` and dicided the new acceleration before working on a new waypoint.\n",
    "\n",
    "```cpp\n",
    "          double plan_v = curr_v;\n",
    "          double plan_acc = curr_spd_acc;\n",
    "          double prev_plan_acc = curr_spd_acc;\n",
    "\n",
    "          vector<double> prev_map_wp = transCar2Map({x_p, y_p}, {ref_x, ref_y}, ref_theta);\n",
    "          for (int i=0; i < NUM_WAYP - last_idx; i++) {\n",
    "            double d_dist = computeTravelDist(plan_v, plan_acc, CYCLE_TIME);\n",
    "            plan_v  = computeNewVelocity(plan_v, plan_acc, SPEED_LIMIT, CYCLE_TIME);\n",
    "\n",
    "            x_p += d_dist*cos(prev_theta);\n",
    "            double y_p = spl(x_p);\n",
    "              \n",
    "            vector<double> map_wp = transCar2Map({x_p, y_p}, {ref_x, ref_y}, ref_theta);\n",
    "\n",
    "            next_x_vals.push_back(map_wp[0]);\n",
    "            next_y_vals.push_back(map_wp[1]);\n",
    "\n",
    "            prev_theta  = atan2(y_p-prev_y_p, x_p-prev_x_p);\n",
    "            prev_x_p    = x_p;\n",
    "            prev_y_p    = y_p;\n",
    "\n",
    "            double prev_map_theta  = atan2(map_wp[1]-prev_map_wp[1], map_wp[0]-prev_map_wp[0]);\n",
    "\n",
    "            predict_cars_movement(CYCLE_TIME, cars_sensor_data, map_waypoints_x, map_waypoints_y);\n",
    "            vector<double> map_sd = getFrenet(map_wp[0], map_wp[1], prev_map_theta, map_waypoints_x, map_waypoints_y);\n",
    "\n",
    "            prev_plan_acc = plan_acc;\n",
    "              \n",
    "            plan_acc = decideAccel(SPEED_ACC_STEP, prev_plan_acc, SPEED_LIMIT, plan_v, HEAD_SAFE_DIST+plan_v, map_sd[0], LANE_WIDTH, map_sd[1], cars_sensor_data);\n",
    "            prev_map_wp = map_wp;\n",
    "          }\n",
    "\n",
    "```\n"
   ]
  },
  {
   "cell_type": "markdown",
   "metadata": {},
   "source": [
    "## Final Results\n",
    "The car can drve for a long distance without any incident such as violating the speed limit, causing high acceleration and jerk, or crahing into other cars. It is able to change lane when necessary as required by the [project rubric](https://review.udacity.com/#!/rubrics/1971/view).   \n",
    "<p>\n",
    "    <img src=\"./result.png\" alt=\"The car drives far more than 4.32 miles\"/>\n",
    "    <br>\n",
    "    <em>The car drives far more than 4.32 miles</em>\n",
    "</p>\n",
    "\n",
    "\n",
    "\n"
   ]
  }
 ],
 "metadata": {
  "kernelspec": {
   "display_name": "Python 3",
   "language": "python",
   "name": "python3"
  },
  "language_info": {
   "codemirror_mode": {
    "name": "ipython",
    "version": 3
   },
   "file_extension": ".py",
   "mimetype": "text/x-python",
   "name": "python",
   "nbconvert_exporter": "python",
   "pygments_lexer": "ipython3",
   "version": "3.7.5rc1"
  }
 },
 "nbformat": 4,
 "nbformat_minor": 2
}
